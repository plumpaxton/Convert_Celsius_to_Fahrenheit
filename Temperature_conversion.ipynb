{
  "nbformat": 4,
  "nbformat_minor": 0,
  "metadata": {
    "colab": {
      "provenance": [],
      "authorship_tag": "ABX9TyOJZVruaOyZ7g8a4Jke1lwx",
      "include_colab_link": true
    },
    "kernelspec": {
      "name": "python3",
      "display_name": "Python 3"
    },
    "language_info": {
      "name": "python"
    }
  },
  "cells": [
    {
      "cell_type": "markdown",
      "metadata": {
        "id": "view-in-github",
        "colab_type": "text"
      },
      "source": [
        "<a href=\"https://colab.research.google.com/github/plumpaxton/Convert_Celsius_to_Fahrenheit/blob/main/Temperature_conversion.ipynb\" target=\"_parent\"><img src=\"https://colab.research.google.com/assets/colab-badge.svg\" alt=\"Open In Colab\"/></a>"
      ]
    },
    {
      "cell_type": "code",
      "execution_count": 3,
      "metadata": {
        "colab": {
          "base_uri": "https://localhost:8080/"
        },
        "id": "wUIywx95AvB5",
        "outputId": "f0137144-1da0-41ac-a4ca-e67d8416e5cd"
      },
      "outputs": [
        {
          "output_type": "stream",
          "name": "stdout",
          "text": [
            "Enter a degree in Celsius: 30\n",
            " The degree in Fahrenheit is 86.0\n"
          ]
        }
      ],
      "source": [
        "\n",
        "# Get input and place it in a variable named degree\n",
        "degree = int(input(\"Enter a degree in Celsius: \"))\n",
        "\n",
        "# Make a calculation that turns a number from celsius to Fahrenheit\n",
        "fah = ((9/5) * degree) + 32\n",
        "\n",
        "print(\" The degree in Fahrenheit is\", fah)"
      ]
    },
    {
      "cell_type": "code",
      "source": [
        "# Get input and place it in a variable named degree\n",
        "degree = int(input(\"Enter a degree in Fahrenheit: \"))\n",
        "\n",
        "# Make a calculation that turns a number from celsius to Fahrenheit\n",
        "cal = (degree - 32) * 5/9\n",
        "\n",
        "print(\" The degree in Celsius is\", cal)"
      ],
      "metadata": {
        "colab": {
          "base_uri": "https://localhost:8080/"
        },
        "id": "MjY4fwGWJXdQ",
        "outputId": "188bcee0-bb4b-40d6-fe1e-59688164575f"
      },
      "execution_count": 2,
      "outputs": [
        {
          "output_type": "stream",
          "name": "stdout",
          "text": [
            "Enter a degree in Fahrenheit: 30\n",
            " The degree in Celsius is -1.1111111111111112\n"
          ]
        }
      ]
    }
  ]
}